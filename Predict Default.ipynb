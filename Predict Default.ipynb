{
 "cells": [
  {
   "cell_type": "markdown",
   "metadata": {},
   "source": [
    "# Business Objective: Identify the Probability of a Retail Loan Default"
   ]
  },
  {
   "cell_type": "markdown",
   "metadata": {},
   "source": [
    "We will begin by importing the relevant libraries and dataset"
   ]
  },
  {
   "cell_type": "code",
   "execution_count": 1,
   "metadata": {},
   "outputs": [],
   "source": [
    "# Import libraries\n",
    "import pandas as pd\n",
    "import numpy as np\n",
    "import matplotlib.pyplot as plt\n",
    "import seaborn as sns\n",
    "import warnings\n",
    "warnings.filterwarnings('ignore')\n",
    "from sklearn.preprocessing import LabelEncoder\n",
    "from sklearn.metrics import roc_auc_score\n",
    "from sklearn.model_selection import train_test_split\n",
    "import gc "
   ]
  },
  {
   "cell_type": "code",
   "execution_count": 2,
   "metadata": {},
   "outputs": [],
   "source": [
    "# Import dataset\n",
    "df_backup = pd.read_csv(r'C:\\Users\\Ahmed\\Desktop\\lending-club-loan-data\\loan.csv')"
   ]
  },
  {
   "cell_type": "code",
   "execution_count": 3,
   "metadata": {},
   "outputs": [],
   "source": [
    "df = df_backup.copy()"
   ]
  },
  {
   "cell_type": "markdown",
   "metadata": {},
   "source": [
    "Let's take a quick glance at our dataset."
   ]
  },
  {
   "cell_type": "code",
   "execution_count": 4,
   "metadata": {},
   "outputs": [
    {
     "data": {
      "text/plain": [
       "(2260668, 145)"
      ]
     },
     "execution_count": 4,
     "metadata": {},
     "output_type": "execute_result"
    }
   ],
   "source": [
    "pd.options.display.max_columns = 15\n",
    "pd.options.display.max_rows = 15\n",
    "df.shape"
   ]
  },
  {
   "cell_type": "code",
   "execution_count": 5,
   "metadata": {},
   "outputs": [
    {
     "data": {
      "text/html": [
       "<div>\n",
       "<style scoped>\n",
       "    .dataframe tbody tr th:only-of-type {\n",
       "        vertical-align: middle;\n",
       "    }\n",
       "\n",
       "    .dataframe tbody tr th {\n",
       "        vertical-align: top;\n",
       "    }\n",
       "\n",
       "    .dataframe thead th {\n",
       "        text-align: right;\n",
       "    }\n",
       "</style>\n",
       "<table border=\"1\" class=\"dataframe\">\n",
       "  <thead>\n",
       "    <tr style=\"text-align: right;\">\n",
       "      <th></th>\n",
       "      <th>id</th>\n",
       "      <th>member_id</th>\n",
       "      <th>loan_amnt</th>\n",
       "      <th>funded_amnt</th>\n",
       "      <th>funded_amnt_inv</th>\n",
       "      <th>term</th>\n",
       "      <th>int_rate</th>\n",
       "      <th>...</th>\n",
       "      <th>debt_settlement_flag</th>\n",
       "      <th>debt_settlement_flag_date</th>\n",
       "      <th>settlement_status</th>\n",
       "      <th>settlement_date</th>\n",
       "      <th>settlement_amount</th>\n",
       "      <th>settlement_percentage</th>\n",
       "      <th>settlement_term</th>\n",
       "    </tr>\n",
       "  </thead>\n",
       "  <tbody>\n",
       "    <tr>\n",
       "      <th>0</th>\n",
       "      <td>NaN</td>\n",
       "      <td>NaN</td>\n",
       "      <td>2500</td>\n",
       "      <td>2500</td>\n",
       "      <td>2500.0</td>\n",
       "      <td>36 months</td>\n",
       "      <td>13.56</td>\n",
       "      <td>...</td>\n",
       "      <td>N</td>\n",
       "      <td>NaN</td>\n",
       "      <td>NaN</td>\n",
       "      <td>NaN</td>\n",
       "      <td>NaN</td>\n",
       "      <td>NaN</td>\n",
       "      <td>NaN</td>\n",
       "    </tr>\n",
       "    <tr>\n",
       "      <th>1</th>\n",
       "      <td>NaN</td>\n",
       "      <td>NaN</td>\n",
       "      <td>30000</td>\n",
       "      <td>30000</td>\n",
       "      <td>30000.0</td>\n",
       "      <td>60 months</td>\n",
       "      <td>18.94</td>\n",
       "      <td>...</td>\n",
       "      <td>N</td>\n",
       "      <td>NaN</td>\n",
       "      <td>NaN</td>\n",
       "      <td>NaN</td>\n",
       "      <td>NaN</td>\n",
       "      <td>NaN</td>\n",
       "      <td>NaN</td>\n",
       "    </tr>\n",
       "    <tr>\n",
       "      <th>2</th>\n",
       "      <td>NaN</td>\n",
       "      <td>NaN</td>\n",
       "      <td>5000</td>\n",
       "      <td>5000</td>\n",
       "      <td>5000.0</td>\n",
       "      <td>36 months</td>\n",
       "      <td>17.97</td>\n",
       "      <td>...</td>\n",
       "      <td>N</td>\n",
       "      <td>NaN</td>\n",
       "      <td>NaN</td>\n",
       "      <td>NaN</td>\n",
       "      <td>NaN</td>\n",
       "      <td>NaN</td>\n",
       "      <td>NaN</td>\n",
       "    </tr>\n",
       "    <tr>\n",
       "      <th>3</th>\n",
       "      <td>NaN</td>\n",
       "      <td>NaN</td>\n",
       "      <td>4000</td>\n",
       "      <td>4000</td>\n",
       "      <td>4000.0</td>\n",
       "      <td>36 months</td>\n",
       "      <td>18.94</td>\n",
       "      <td>...</td>\n",
       "      <td>N</td>\n",
       "      <td>NaN</td>\n",
       "      <td>NaN</td>\n",
       "      <td>NaN</td>\n",
       "      <td>NaN</td>\n",
       "      <td>NaN</td>\n",
       "      <td>NaN</td>\n",
       "    </tr>\n",
       "    <tr>\n",
       "      <th>4</th>\n",
       "      <td>NaN</td>\n",
       "      <td>NaN</td>\n",
       "      <td>30000</td>\n",
       "      <td>30000</td>\n",
       "      <td>30000.0</td>\n",
       "      <td>60 months</td>\n",
       "      <td>16.14</td>\n",
       "      <td>...</td>\n",
       "      <td>N</td>\n",
       "      <td>NaN</td>\n",
       "      <td>NaN</td>\n",
       "      <td>NaN</td>\n",
       "      <td>NaN</td>\n",
       "      <td>NaN</td>\n",
       "      <td>NaN</td>\n",
       "    </tr>\n",
       "  </tbody>\n",
       "</table>\n",
       "<p>5 rows × 145 columns</p>\n",
       "</div>"
      ],
      "text/plain": [
       "   id  member_id  loan_amnt  funded_amnt  funded_amnt_inv        term  \\\n",
       "0 NaN        NaN       2500         2500           2500.0   36 months   \n",
       "1 NaN        NaN      30000        30000          30000.0   60 months   \n",
       "2 NaN        NaN       5000         5000           5000.0   36 months   \n",
       "3 NaN        NaN       4000         4000           4000.0   36 months   \n",
       "4 NaN        NaN      30000        30000          30000.0   60 months   \n",
       "\n",
       "   int_rate  ...  debt_settlement_flag debt_settlement_flag_date  \\\n",
       "0     13.56  ...                     N                       NaN   \n",
       "1     18.94  ...                     N                       NaN   \n",
       "2     17.97  ...                     N                       NaN   \n",
       "3     18.94  ...                     N                       NaN   \n",
       "4     16.14  ...                     N                       NaN   \n",
       "\n",
       "  settlement_status settlement_date settlement_amount settlement_percentage  \\\n",
       "0               NaN             NaN               NaN                   NaN   \n",
       "1               NaN             NaN               NaN                   NaN   \n",
       "2               NaN             NaN               NaN                   NaN   \n",
       "3               NaN             NaN               NaN                   NaN   \n",
       "4               NaN             NaN               NaN                   NaN   \n",
       "\n",
       "   settlement_term  \n",
       "0              NaN  \n",
       "1              NaN  \n",
       "2              NaN  \n",
       "3              NaN  \n",
       "4              NaN  \n",
       "\n",
       "[5 rows x 145 columns]"
      ]
     },
     "execution_count": 5,
     "metadata": {},
     "output_type": "execute_result"
    }
   ],
   "source": [
    "df.head()"
   ]
  },
  {
   "cell_type": "code",
   "execution_count": 6,
   "metadata": {
    "scrolled": true
   },
   "outputs": [
    {
     "data": {
      "text/html": [
       "<div>\n",
       "<style scoped>\n",
       "    .dataframe tbody tr th:only-of-type {\n",
       "        vertical-align: middle;\n",
       "    }\n",
       "\n",
       "    .dataframe tbody tr th {\n",
       "        vertical-align: top;\n",
       "    }\n",
       "\n",
       "    .dataframe thead th {\n",
       "        text-align: right;\n",
       "    }\n",
       "</style>\n",
       "<table border=\"1\" class=\"dataframe\">\n",
       "  <thead>\n",
       "    <tr style=\"text-align: right;\">\n",
       "      <th></th>\n",
       "      <th>Null Values</th>\n",
       "      <th>Percent of Total</th>\n",
       "      <th>Data Type</th>\n",
       "    </tr>\n",
       "  </thead>\n",
       "  <tbody>\n",
       "    <tr>\n",
       "      <th>id</th>\n",
       "      <td>2260668</td>\n",
       "      <td>100.00</td>\n",
       "      <td>float64</td>\n",
       "    </tr>\n",
       "    <tr>\n",
       "      <th>url</th>\n",
       "      <td>2260668</td>\n",
       "      <td>100.00</td>\n",
       "      <td>float64</td>\n",
       "    </tr>\n",
       "    <tr>\n",
       "      <th>member_id</th>\n",
       "      <td>2260668</td>\n",
       "      <td>100.00</td>\n",
       "      <td>float64</td>\n",
       "    </tr>\n",
       "    <tr>\n",
       "      <th>orig_projected_additional_accrued_interest</th>\n",
       "      <td>2252242</td>\n",
       "      <td>99.63</td>\n",
       "      <td>float64</td>\n",
       "    </tr>\n",
       "    <tr>\n",
       "      <th>hardship_length</th>\n",
       "      <td>2250055</td>\n",
       "      <td>99.53</td>\n",
       "      <td>float64</td>\n",
       "    </tr>\n",
       "    <tr>\n",
       "      <th>hardship_reason</th>\n",
       "      <td>2250055</td>\n",
       "      <td>99.53</td>\n",
       "      <td>object</td>\n",
       "    </tr>\n",
       "    <tr>\n",
       "      <th>hardship_status</th>\n",
       "      <td>2250055</td>\n",
       "      <td>99.53</td>\n",
       "      <td>object</td>\n",
       "    </tr>\n",
       "    <tr>\n",
       "      <th>...</th>\n",
       "      <td>...</td>\n",
       "      <td>...</td>\n",
       "      <td>...</td>\n",
       "    </tr>\n",
       "    <tr>\n",
       "      <th>total_pymnt_inv</th>\n",
       "      <td>0</td>\n",
       "      <td>0.00</td>\n",
       "      <td>float64</td>\n",
       "    </tr>\n",
       "    <tr>\n",
       "      <th>total_pymnt</th>\n",
       "      <td>0</td>\n",
       "      <td>0.00</td>\n",
       "      <td>float64</td>\n",
       "    </tr>\n",
       "    <tr>\n",
       "      <th>out_prncp_inv</th>\n",
       "      <td>0</td>\n",
       "      <td>0.00</td>\n",
       "      <td>float64</td>\n",
       "    </tr>\n",
       "    <tr>\n",
       "      <th>out_prncp</th>\n",
       "      <td>0</td>\n",
       "      <td>0.00</td>\n",
       "      <td>float64</td>\n",
       "    </tr>\n",
       "    <tr>\n",
       "      <th>initial_list_status</th>\n",
       "      <td>0</td>\n",
       "      <td>0.00</td>\n",
       "      <td>object</td>\n",
       "    </tr>\n",
       "    <tr>\n",
       "      <th>hardship_flag</th>\n",
       "      <td>0</td>\n",
       "      <td>0.00</td>\n",
       "      <td>object</td>\n",
       "    </tr>\n",
       "    <tr>\n",
       "      <th>addr_state</th>\n",
       "      <td>0</td>\n",
       "      <td>0.00</td>\n",
       "      <td>object</td>\n",
       "    </tr>\n",
       "  </tbody>\n",
       "</table>\n",
       "<p>145 rows × 3 columns</p>\n",
       "</div>"
      ],
      "text/plain": [
       "                                            Null Values  Percent of Total  \\\n",
       "id                                              2260668            100.00   \n",
       "url                                             2260668            100.00   \n",
       "member_id                                       2260668            100.00   \n",
       "orig_projected_additional_accrued_interest      2252242             99.63   \n",
       "hardship_length                                 2250055             99.53   \n",
       "hardship_reason                                 2250055             99.53   \n",
       "hardship_status                                 2250055             99.53   \n",
       "...                                                 ...               ...   \n",
       "total_pymnt_inv                                       0              0.00   \n",
       "total_pymnt                                           0              0.00   \n",
       "out_prncp_inv                                         0              0.00   \n",
       "out_prncp                                             0              0.00   \n",
       "initial_list_status                                   0              0.00   \n",
       "hardship_flag                                         0              0.00   \n",
       "addr_state                                            0              0.00   \n",
       "\n",
       "                                           Data Type  \n",
       "id                                           float64  \n",
       "url                                          float64  \n",
       "member_id                                    float64  \n",
       "orig_projected_additional_accrued_interest   float64  \n",
       "hardship_length                              float64  \n",
       "hardship_reason                               object  \n",
       "hardship_status                               object  \n",
       "...                                              ...  \n",
       "total_pymnt_inv                              float64  \n",
       "total_pymnt                                  float64  \n",
       "out_prncp_inv                                float64  \n",
       "out_prncp                                    float64  \n",
       "initial_list_status                           object  \n",
       "hardship_flag                                 object  \n",
       "addr_state                                    object  \n",
       "\n",
       "[145 rows x 3 columns]"
      ]
     },
     "execution_count": 6,
     "metadata": {},
     "output_type": "execute_result"
    }
   ],
   "source": [
    "null_count = df.isnull().sum()\n",
    "null_pct = ((df.isnull().sum())/(df.isnull().count()))*100\n",
    "null_type = df.dtypes\n",
    "missing_data = pd.concat([null_count, null_pct, null_type], axis = 1, keys = ['Null Values', 'Percent of Total', 'Data Type'])\n",
    "missing_data = missing_data.sort_values(by = 'Percent of Total', ascending = False).round(2)\n",
    "missing_data"
   ]
  },
  {
   "cell_type": "markdown",
   "metadata": {},
   "source": [
    "Looks like we need to change some data types and treat missing data. "
   ]
  },
  {
   "cell_type": "markdown",
   "metadata": {},
   "source": [
    "# Data Preprocessing"
   ]
  },
  {
   "cell_type": "markdown",
   "metadata": {},
   "source": [
    "We will start the preprocessing by transforming some data types."
   ]
  },
  {
   "cell_type": "code",
   "execution_count": 7,
   "metadata": {},
   "outputs": [],
   "source": [
    "# Convert objects to datetime where appropriate\n",
    "date_cols = ['earliest_cr_line', 'sec_app_earliest_cr_line', 'hardship_start_date', 'payment_plan_start_date',\n",
    "              'debt_settlement_flag_date', 'settlement_date', 'last_pymnt_d', 'next_pymnt_d', 'last_credit_pull_d', 'issue_d']\n",
    "for col in date_cols:\n",
    "     df[col] = pd.to_datetime(df[col], format = '%b-%Y')"
   ]
  },
  {
   "cell_type": "code",
   "execution_count": 8,
   "metadata": {},
   "outputs": [
    {
     "data": {
      "text/plain": [
       "dtype('int32')"
      ]
     },
     "execution_count": 8,
     "metadata": {},
     "output_type": "execute_result"
    }
   ],
   "source": [
    "# Convert objects to integers where appropriate\n",
    "df['emp_length'] = df['emp_length'].str.replace('\\+ years', '')\n",
    "df['emp_length'] = df['emp_length'].str.replace('< 1 year', str(0))\n",
    "df['emp_length'] = df['emp_length'].str.replace(' years', '')\n",
    "df['emp_length'] = df['emp_length'].str.replace(' year', '')\n",
    "# We will also replace null values with 0 \n",
    "df['emp_length'] = df['emp_length'].fillna(0).astype(int)\n",
    "df['emp_length'].dtypes"
   ]
  },
  {
   "cell_type": "code",
   "execution_count": 9,
   "metadata": {},
   "outputs": [
    {
     "data": {
      "text/plain": [
       "dtype('int32')"
      ]
     },
     "execution_count": 9,
     "metadata": {},
     "output_type": "execute_result"
    }
   ],
   "source": [
    "# Convert objects to integers where appropriate\n",
    "df['term'] = df['term'].str.replace(' months', '').astype(int)\n",
    "df['term'].dtypes"
   ]
  },
  {
   "cell_type": "markdown",
   "metadata": {},
   "source": [
    "Several of our datetime features appear to be a beginning and end point for a particualar predictor. Capturing the difference between the start and end points will tell us more than the datetime features by themselves."
   ]
  },
  {
   "cell_type": "code",
   "execution_count": 10,
   "metadata": {},
   "outputs": [
    {
     "name": "stdout",
     "output_type": "stream",
     "text": [
      "Ordinarily, we would use the difference between the start date and current date to calculate duration where appropriate.\n",
      "However, this dataset ends at 2018-12-01 00:00:00, so we will use this value as the end point.\n"
     ]
    }
   ],
   "source": [
    "print('Ordinarily, we would use the difference between the start date and current date to calculate duration where appropriate.') \n",
    "print('However, this dataset ends at {}, so we will use this value as the end point.'.format(df['issue_d'].max()))"
   ]
  },
  {
   "cell_type": "code",
   "execution_count": 11,
   "metadata": {},
   "outputs": [
    {
     "name": "stdout",
     "output_type": "stream",
     "text": [
      "Hardship, settlement plan and time since most recent inquiry durations are already given so there is no need to derive them.\n"
     ]
    }
   ],
   "source": [
    "# Get the duration for some datetime variables\n",
    "df['oldest_cr_line_age'] = round(pd.to_numeric((pd.to_datetime('2018-12-01') - df['earliest_cr_line']) / np.timedelta64(1, 'M')))\n",
    "df['oldest_cr_line_age_sec_app'] = round(pd.to_numeric((df['last_pymnt_d'] - df['sec_app_earliest_cr_line']) / np.timedelta64(1, 'M')))\n",
    "df['next_last_payment_difference'] = round(pd.to_numeric((df['next_pymnt_d'] - df['last_pymnt_d']) / np.timedelta64(1, 'M')))\n",
    "df['mths_since_issue_d'] = round(pd.to_numeric((pd.to_datetime('2018-12-01') - df['issue_d']) / np.timedelta64(1, 'M')))\n",
    "print('Hardship, settlement plan and time since most recent inquiry durations are already given so there is no need to derive them.')"
   ]
  },
  {
   "cell_type": "markdown",
   "metadata": {},
   "source": [
    "Now that we have changed the data types of the continuous features, where appropriate, let's do the same for continuous features. Here we will take 2 approaches: \n",
    "i)  We will label encode ordinal categorical features\n",
    "ii) We will get dummy variables for nomincal categorical features"
   ]
  },
  {
   "cell_type": "code",
   "execution_count": 12,
   "metadata": {},
   "outputs": [
    {
     "name": "stdout",
     "output_type": "stream",
     "text": [
      "{'G': 1, 'F': 2, 'E': 3, 'D': 4, 'C': 5, 'B': 6, 'A': 7}\n",
      "{'G5': 1, 'G4': 2, 'G3': 3, 'G2': 4, 'G1': 5, 'F5': 6, 'F4': 7, 'F3': 8, 'F2': 9, 'F1': 10, 'E5': 11, 'E4': 12, 'E3': 13, 'E2': 14, 'E1': 15, 'D5': 16, 'D4': 17, 'D3': 18, 'D2': 19, 'D1': 20, 'C5': 21, 'C4': 22, 'C3': 23, 'C2': 24, 'C1': 25, 'B5': 26, 'B4': 27, 'B3': 28, 'B2': 29, 'B1': 30, 'A5': 31, 'A4': 32, 'A3': 33, 'A2': 34, 'A1': 35}\n"
     ]
    }
   ],
   "source": [
    "# First we will assign a score to each grade\n",
    "grade_list = sorted(list(df['grade'].unique()))\n",
    "\n",
    "grade_list = grade_list[::-1]\n",
    "\n",
    "grade_dict = {}\n",
    "for letter,c in zip(grade_list, list(range(1,len(grade_list)+1))):\n",
    "     grade_dict[letter] = c\n",
    "\n",
    "# And the same for sub grade\n",
    "sub_grade_list = sorted(list(df['sub_grade'].unique()))\n",
    "\n",
    "sub_grade_list = sub_grade_list[::-1]\n",
    "\n",
    "sub_grade_dict = {}\n",
    "for letter,c in zip(sub_grade_list, list(range(1,len(sub_grade_list)+1))):\n",
    "     sub_grade_dict[letter] = c\n",
    "        \n",
    "print(grade_dict, sub_grade_dict, sep=\"\\n\")"
   ]
  },
  {
   "cell_type": "code",
   "execution_count": 13,
   "metadata": {},
   "outputs": [],
   "source": [
    "# Encode ordinal categorical features\n",
    "df['grade'] = df.grade.map(grade_dict)\n",
    "df['sub_grade'] = df.sub_grade.map(sub_grade_dict)"
   ]
  },
  {
   "cell_type": "code",
   "execution_count": 14,
   "metadata": {},
   "outputs": [
    {
     "name": "stdout",
     "output_type": "stream",
     "text": [
      "int32 int32 int32 int32\n"
     ]
    }
   ],
   "source": [
    "df['pymnt_plan'] = np.where(df['pymnt_plan']=='Y', 1, 0).astype(int)\n",
    "df['hardship_flag'] = np.where(df['hardship_flag']=='Y', 1, 0).astype(int)\n",
    "df['debt_settlement_flag'] = np.where(df['debt_settlement_flag']=='Y', 1, 0).astype(int)\n",
    "df['application_type'] = np.where(df['application_type']=='Joint App', 1, 0).astype(int)\n",
    "df['settlement_plan_flag'] = np.where(df['settlement_date'].notnull(), 1, 0).astype(int)\n",
    "print(df['pymnt_plan'].dtypes, df['hardship_flag'].dtypes, df['debt_settlement_flag'].dtypes, df['settlement_plan_flag'].dtype)"
   ]
  },
  {
   "cell_type": "markdown",
   "metadata": {},
   "source": [
    "Let's a take detour and treat missing data. We will add dummy variables once we are free of null values. "
   ]
  },
  {
   "cell_type": "code",
   "execution_count": 15,
   "metadata": {},
   "outputs": [],
   "source": [
    "# Treat missing values for continuous features\n",
    "from sklearn.impute import SimpleImputer\n",
    "imputer_annual_inc = SimpleImputer(missing_values = np.nan, strategy = 'median')\n",
    "imputer_annual_inc = imputer_annual_inc.fit(df[['annual_inc']])\n",
    "df['annual_inc'] = imputer_annual_inc.transform(df[['annual_inc']])"
   ]
  },
  {
   "cell_type": "code",
   "execution_count": 16,
   "metadata": {},
   "outputs": [],
   "source": [
    "# Treat missing values for continuous features\n",
    "cols_null_to_zero = df.columns[df.dtypes==float]\n",
    "df[cols_null_to_zero]=df[cols_null_to_zero].fillna(0)\n",
    "\n",
    "# Treat missing values for categorical features\n",
    "cols_null_to_none = df.columns[df.dtypes==object]\n",
    "df[cols_null_to_none]=df[cols_null_to_none].fillna('none')"
   ]
  },
  {
   "cell_type": "code",
   "execution_count": 17,
   "metadata": {
    "scrolled": true
   },
   "outputs": [
    {
     "data": {
      "text/html": [
       "<div>\n",
       "<style scoped>\n",
       "    .dataframe tbody tr th:only-of-type {\n",
       "        vertical-align: middle;\n",
       "    }\n",
       "\n",
       "    .dataframe tbody tr th {\n",
       "        vertical-align: top;\n",
       "    }\n",
       "\n",
       "    .dataframe thead th {\n",
       "        text-align: right;\n",
       "    }\n",
       "</style>\n",
       "<table border=\"1\" class=\"dataframe\">\n",
       "  <thead>\n",
       "    <tr style=\"text-align: right;\">\n",
       "      <th></th>\n",
       "      <th>Null Values</th>\n",
       "      <th>Percent of Total</th>\n",
       "      <th>Data Type</th>\n",
       "    </tr>\n",
       "  </thead>\n",
       "  <tbody>\n",
       "    <tr>\n",
       "      <th>payment_plan_start_date</th>\n",
       "      <td>2250055</td>\n",
       "      <td>99.53</td>\n",
       "      <td>datetime64[ns]</td>\n",
       "    </tr>\n",
       "    <tr>\n",
       "      <th>hardship_start_date</th>\n",
       "      <td>2250055</td>\n",
       "      <td>99.53</td>\n",
       "      <td>datetime64[ns]</td>\n",
       "    </tr>\n",
       "    <tr>\n",
       "      <th>settlement_date</th>\n",
       "      <td>2227612</td>\n",
       "      <td>98.54</td>\n",
       "      <td>datetime64[ns]</td>\n",
       "    </tr>\n",
       "    <tr>\n",
       "      <th>debt_settlement_flag_date</th>\n",
       "      <td>2227612</td>\n",
       "      <td>98.54</td>\n",
       "      <td>datetime64[ns]</td>\n",
       "    </tr>\n",
       "    <tr>\n",
       "      <th>sec_app_earliest_cr_line</th>\n",
       "      <td>2152647</td>\n",
       "      <td>95.22</td>\n",
       "      <td>datetime64[ns]</td>\n",
       "    </tr>\n",
       "    <tr>\n",
       "      <th>next_pymnt_d</th>\n",
       "      <td>1303607</td>\n",
       "      <td>57.66</td>\n",
       "      <td>datetime64[ns]</td>\n",
       "    </tr>\n",
       "    <tr>\n",
       "      <th>last_pymnt_d</th>\n",
       "      <td>2426</td>\n",
       "      <td>0.11</td>\n",
       "      <td>datetime64[ns]</td>\n",
       "    </tr>\n",
       "    <tr>\n",
       "      <th>...</th>\n",
       "      <td>...</td>\n",
       "      <td>...</td>\n",
       "      <td>...</td>\n",
       "    </tr>\n",
       "    <tr>\n",
       "      <th>tax_liens</th>\n",
       "      <td>0</td>\n",
       "      <td>0.00</td>\n",
       "      <td>float64</td>\n",
       "    </tr>\n",
       "    <tr>\n",
       "      <th>tot_hi_cred_lim</th>\n",
       "      <td>0</td>\n",
       "      <td>0.00</td>\n",
       "      <td>float64</td>\n",
       "    </tr>\n",
       "    <tr>\n",
       "      <th>num_rev_accts</th>\n",
       "      <td>0</td>\n",
       "      <td>0.00</td>\n",
       "      <td>float64</td>\n",
       "    </tr>\n",
       "    <tr>\n",
       "      <th>id</th>\n",
       "      <td>0</td>\n",
       "      <td>0.00</td>\n",
       "      <td>float64</td>\n",
       "    </tr>\n",
       "    <tr>\n",
       "      <th>num_op_rev_tl</th>\n",
       "      <td>0</td>\n",
       "      <td>0.00</td>\n",
       "      <td>float64</td>\n",
       "    </tr>\n",
       "    <tr>\n",
       "      <th>mths_since_recent_bc_dlq</th>\n",
       "      <td>0</td>\n",
       "      <td>0.00</td>\n",
       "      <td>float64</td>\n",
       "    </tr>\n",
       "    <tr>\n",
       "      <th>delinq_amnt</th>\n",
       "      <td>0</td>\n",
       "      <td>0.00</td>\n",
       "      <td>float64</td>\n",
       "    </tr>\n",
       "  </tbody>\n",
       "</table>\n",
       "<p>25 rows × 3 columns</p>\n",
       "</div>"
      ],
      "text/plain": [
       "                           Null Values  Percent of Total       Data Type\n",
       "payment_plan_start_date        2250055             99.53  datetime64[ns]\n",
       "hardship_start_date            2250055             99.53  datetime64[ns]\n",
       "settlement_date                2227612             98.54  datetime64[ns]\n",
       "debt_settlement_flag_date      2227612             98.54  datetime64[ns]\n",
       "sec_app_earliest_cr_line       2152647             95.22  datetime64[ns]\n",
       "next_pymnt_d                   1303607             57.66  datetime64[ns]\n",
       "last_pymnt_d                      2426              0.11  datetime64[ns]\n",
       "...                                ...               ...             ...\n",
       "tax_liens                            0              0.00         float64\n",
       "tot_hi_cred_lim                      0              0.00         float64\n",
       "num_rev_accts                        0              0.00         float64\n",
       "id                                   0              0.00         float64\n",
       "num_op_rev_tl                        0              0.00         float64\n",
       "mths_since_recent_bc_dlq             0              0.00         float64\n",
       "delinq_amnt                          0              0.00         float64\n",
       "\n",
       "[25 rows x 3 columns]"
      ]
     },
     "execution_count": 17,
     "metadata": {},
     "output_type": "execute_result"
    }
   ],
   "source": [
    "null_count = df.isnull().sum()\n",
    "null_pct = ((df.isnull().sum())/(df.isnull().count()))*100\n",
    "null_type = df.dtypes\n",
    "missing_data = pd.concat([null_count, null_pct, null_type], axis = 1, keys = ['Null Values', 'Percent of Total', 'Data Type'])\n",
    "missing_data = missing_data.sort_values(by = 'Percent of Total', ascending = False).round(2)\n",
    "missing_data.head(25)"
   ]
  },
  {
   "cell_type": "markdown",
   "metadata": {},
   "source": [
    "That takes care of the missing values. We still have some nulls in the DateTime features but we will drop those columns soon as we have already extracted the necessary features from them. Let's get back to encoding features. "
   ]
  },
  {
   "cell_type": "code",
   "execution_count": 18,
   "metadata": {},
   "outputs": [
    {
     "name": "stdout",
     "output_type": "stream",
     "text": [
      "This would be a good way to add dummy variables and delete the redundant predecessors. However it requires significant memory.\n"
     ]
    }
   ],
   "source": [
    "# dummy_cols = ['home_ownership', 'verification_status', 'verification_status_joint', 'purpose', 'addr_state', 'initial_list_status',\n",
    "#         'hardship_type', 'hardship_reason', 'hardship_status', 'hardship_loan_status', 'disbursement_method',\n",
    "#         'settlement_status', 'sec_app_earliest_cr_line', 'earliest_cr_line', 'title', 'zip_code']\n",
    "# for col in dummy_cols:\n",
    "#     df = pd.concat([df, pd.get_dummies(df[col], prefix = col, prefix_sep = ' ')])\n",
    "#     df.drop(col, axis=1, inplace=True)\n",
    "print('This would be a good way to add dummy variables and delete the redundant predecessors. However it requires significant memory.')"
   ]
  },
  {
   "cell_type": "code",
   "execution_count": 19,
   "metadata": {},
   "outputs": [],
   "source": [
    "# Encode nominal categorical features\n",
    "df_dummies = [pd.get_dummies(df['home_ownership'], prefix = 'home_ownership', prefix_sep = ' '),\n",
    "            pd.get_dummies(df['verification_status'], prefix = 'verification_status', prefix_sep = ' '),\n",
    "            pd.get_dummies(df['verification_status_joint'], prefix = 'verification_status_joint', prefix_sep = ' '),\n",
    "            pd.get_dummies(df['purpose'], prefix = 'purpose', prefix_sep = ' '),\n",
    "            pd.get_dummies(df['addr_state'], prefix = 'addr_state', prefix_sep = ' '),\n",
    "            pd.get_dummies(df['hardship_type'], prefix = 'hardship_type', prefix_sep = ' '),\n",
    "            pd.get_dummies(df['hardship_reason'], prefix = 'hardship_reason', prefix_sep = ' '),\n",
    "            pd.get_dummies(df['hardship_status'], prefix = 'hardship_status', prefix_sep = ' '),\n",
    "            pd.get_dummies(df['hardship_loan_status'], prefix = 'hardship_loan_status', prefix_sep = ' '),\n",
    "            pd.get_dummies(df['disbursement_method'], prefix = 'disbursement_method', prefix_sep = ' '),\n",
    "            pd.get_dummies(df['settlement_status'], prefix = 'settlement_status', prefix_sep = ' '),\n",
    "            pd.get_dummies(df['initial_list_status'], prefix = 'initial_list_status', prefix_sep = ' '),\n",
    "            pd.get_dummies(df['zip_code'], prefix = 'zip_code', prefix_sep = ' ')]\n",
    "df_dummies = pd.concat(df_dummies, axis = 1)\n",
    "df = pd.concat([df, df_dummies], axis = 1)"
   ]
  },
  {
   "cell_type": "code",
   "execution_count": 20,
   "metadata": {},
   "outputs": [],
   "source": [
    "# Drop redundant features\n",
    "df.drop(['home_ownership', 'verification_status', 'verification_status_joint', 'purpose', 'addr_state', 'initial_list_status',\n",
    "         'hardship_type', 'hardship_reason', 'hardship_status', 'hardship_loan_status', 'disbursement_method',\n",
    "         'settlement_status', 'sec_app_earliest_cr_line', 'earliest_cr_line', 'title', 'zip_code'], axis = 1, inplace = True)"
   ]
  },
  {
   "cell_type": "code",
   "execution_count": 21,
   "metadata": {
    "scrolled": true
   },
   "outputs": [],
   "source": [
    "# We will also drop features that are empty columns or of no value\n",
    "df.drop(['id', 'url', 'member_id', 'emp_title', 'hardship_start_date', 'payment_plan_start_date',\n",
    "        'debt_settlement_flag_date', 'settlement_date', 'next_pymnt_d', 'last_pymnt_d', \n",
    "        'last_credit_pull_d', 'desc', 'issue_d', 'hardship_end_date'], axis = 1, inplace = True)\n"
   ]
  },
  {
   "cell_type": "code",
   "execution_count": 22,
   "metadata": {},
   "outputs": [
    {
     "data": {
      "text/html": [
       "<div>\n",
       "<style scoped>\n",
       "    .dataframe tbody tr th:only-of-type {\n",
       "        vertical-align: middle;\n",
       "    }\n",
       "\n",
       "    .dataframe tbody tr th {\n",
       "        vertical-align: top;\n",
       "    }\n",
       "\n",
       "    .dataframe thead th {\n",
       "        text-align: right;\n",
       "    }\n",
       "</style>\n",
       "<table border=\"1\" class=\"dataframe\">\n",
       "  <thead>\n",
       "    <tr style=\"text-align: right;\">\n",
       "      <th></th>\n",
       "      <th>loan_amnt</th>\n",
       "      <th>funded_amnt</th>\n",
       "      <th>funded_amnt_inv</th>\n",
       "      <th>term</th>\n",
       "      <th>int_rate</th>\n",
       "      <th>installment</th>\n",
       "      <th>grade</th>\n",
       "      <th>...</th>\n",
       "      <th>zip_code 994xx</th>\n",
       "      <th>zip_code 995xx</th>\n",
       "      <th>zip_code 996xx</th>\n",
       "      <th>zip_code 997xx</th>\n",
       "      <th>zip_code 998xx</th>\n",
       "      <th>zip_code 999xx</th>\n",
       "      <th>zip_code none</th>\n",
       "    </tr>\n",
       "  </thead>\n",
       "  <tbody>\n",
       "    <tr>\n",
       "      <th>0</th>\n",
       "      <td>2500</td>\n",
       "      <td>2500</td>\n",
       "      <td>2500.0</td>\n",
       "      <td>36</td>\n",
       "      <td>13.56</td>\n",
       "      <td>84.92</td>\n",
       "      <td>5</td>\n",
       "      <td>...</td>\n",
       "      <td>0</td>\n",
       "      <td>0</td>\n",
       "      <td>0</td>\n",
       "      <td>0</td>\n",
       "      <td>0</td>\n",
       "      <td>0</td>\n",
       "      <td>0</td>\n",
       "    </tr>\n",
       "    <tr>\n",
       "      <th>1</th>\n",
       "      <td>30000</td>\n",
       "      <td>30000</td>\n",
       "      <td>30000.0</td>\n",
       "      <td>60</td>\n",
       "      <td>18.94</td>\n",
       "      <td>777.23</td>\n",
       "      <td>4</td>\n",
       "      <td>...</td>\n",
       "      <td>0</td>\n",
       "      <td>0</td>\n",
       "      <td>0</td>\n",
       "      <td>0</td>\n",
       "      <td>0</td>\n",
       "      <td>0</td>\n",
       "      <td>0</td>\n",
       "    </tr>\n",
       "    <tr>\n",
       "      <th>2</th>\n",
       "      <td>5000</td>\n",
       "      <td>5000</td>\n",
       "      <td>5000.0</td>\n",
       "      <td>36</td>\n",
       "      <td>17.97</td>\n",
       "      <td>180.69</td>\n",
       "      <td>4</td>\n",
       "      <td>...</td>\n",
       "      <td>0</td>\n",
       "      <td>0</td>\n",
       "      <td>0</td>\n",
       "      <td>0</td>\n",
       "      <td>0</td>\n",
       "      <td>0</td>\n",
       "      <td>0</td>\n",
       "    </tr>\n",
       "    <tr>\n",
       "      <th>3</th>\n",
       "      <td>4000</td>\n",
       "      <td>4000</td>\n",
       "      <td>4000.0</td>\n",
       "      <td>36</td>\n",
       "      <td>18.94</td>\n",
       "      <td>146.51</td>\n",
       "      <td>4</td>\n",
       "      <td>...</td>\n",
       "      <td>0</td>\n",
       "      <td>0</td>\n",
       "      <td>0</td>\n",
       "      <td>0</td>\n",
       "      <td>0</td>\n",
       "      <td>0</td>\n",
       "      <td>0</td>\n",
       "    </tr>\n",
       "    <tr>\n",
       "      <th>4</th>\n",
       "      <td>30000</td>\n",
       "      <td>30000</td>\n",
       "      <td>30000.0</td>\n",
       "      <td>60</td>\n",
       "      <td>16.14</td>\n",
       "      <td>731.78</td>\n",
       "      <td>5</td>\n",
       "      <td>...</td>\n",
       "      <td>0</td>\n",
       "      <td>0</td>\n",
       "      <td>0</td>\n",
       "      <td>0</td>\n",
       "      <td>0</td>\n",
       "      <td>0</td>\n",
       "      <td>0</td>\n",
       "    </tr>\n",
       "  </tbody>\n",
       "</table>\n",
       "<p>5 rows × 1185 columns</p>\n",
       "</div>"
      ],
      "text/plain": [
       "   loan_amnt  funded_amnt  funded_amnt_inv  term  int_rate  installment  \\\n",
       "0       2500         2500           2500.0    36     13.56        84.92   \n",
       "1      30000        30000          30000.0    60     18.94       777.23   \n",
       "2       5000         5000           5000.0    36     17.97       180.69   \n",
       "3       4000         4000           4000.0    36     18.94       146.51   \n",
       "4      30000        30000          30000.0    60     16.14       731.78   \n",
       "\n",
       "   grade  ...  zip_code 994xx  zip_code 995xx  zip_code 996xx zip_code 997xx  \\\n",
       "0      5  ...               0               0               0              0   \n",
       "1      4  ...               0               0               0              0   \n",
       "2      4  ...               0               0               0              0   \n",
       "3      4  ...               0               0               0              0   \n",
       "4      5  ...               0               0               0              0   \n",
       "\n",
       "   zip_code 998xx  zip_code 999xx  zip_code none  \n",
       "0               0               0              0  \n",
       "1               0               0              0  \n",
       "2               0               0              0  \n",
       "3               0               0              0  \n",
       "4               0               0              0  \n",
       "\n",
       "[5 rows x 1185 columns]"
      ]
     },
     "execution_count": 22,
     "metadata": {},
     "output_type": "execute_result"
    }
   ],
   "source": [
    "df.head()"
   ]
  },
  {
   "cell_type": "markdown",
   "metadata": {},
   "source": [
    "## PD Model Preparation"
   ]
  },
  {
   "cell_type": "markdown",
   "metadata": {},
   "source": [
    "### Define Target Variable"
   ]
  },
  {
   "cell_type": "markdown",
   "metadata": {},
   "source": [
    "Until now we have simply preprocessed our features- we have not yet defined our target variable. We will begin building our PD (Prediction Default) model by first defining our target variable."
   ]
  },
  {
   "cell_type": "code",
   "execution_count": 23,
   "metadata": {},
   "outputs": [
    {
     "name": "stdout",
     "output_type": "stream",
     "text": [
      "Fully Paid                                             1041952\n",
      "Current                                                 919695\n",
      "Charged Off                                             261655\n",
      "Late (31-120 days)                                       21897\n",
      "In Grace Period                                           8952\n",
      "Late (16-30 days)                                         3737\n",
      "Does not meet the credit policy. Status:Fully Paid        1988\n",
      "Does not meet the credit policy. Status:Charged Off        761\n",
      "Default                                                     31\n",
      "Name: loan_status, dtype: int64\n",
      "\n",
      "Fully Paid                                             46.090448\n",
      "Current                                                40.682444\n",
      "Charged Off                                            11.574234\n",
      "Late (31-120 days)                                      0.968608\n",
      "In Grace Period                                         0.395989\n",
      "Late (16-30 days)                                       0.165305\n",
      "Does not meet the credit policy. Status:Fully Paid      0.087939\n",
      "Does not meet the credit policy. Status:Charged Off     0.033663\n",
      "Default                                                 0.001371\n",
      "Name: loan_status, dtype: float64\n"
     ]
    }
   ],
   "source": [
    "# Let's look at the target variable\n",
    "print(df['loan_status'].value_counts())\n",
    "print()\n",
    "print((df['loan_status'].value_counts()/df['loan_status'].count())*100)"
   ]
  },
  {
   "cell_type": "markdown",
   "metadata": {},
   "source": [
    "Here is the <b>'Good/ Bad'</b> definition which represents: <br>- customers who <b>will not</b> default on their loan as <b>1</b> <br>- customers who <b>will</b> default on their loan as <b>0</b>"
   ]
  },
  {
   "cell_type": "code",
   "execution_count": 24,
   "metadata": {},
   "outputs": [
    {
     "data": {
      "text/plain": [
       "1    1976355\n",
       "0     284313\n",
       "Name: loan_status, dtype: int64"
      ]
     },
     "execution_count": 24,
     "metadata": {},
     "output_type": "execute_result"
    }
   ],
   "source": [
    "df['loan_status'] = np.where(df['loan_status'].isin(['Charged Off', \n",
    "                                                  'Does not meet the credit policy. Status:Charged Off',\n",
    "                                                  'Late (31-120 days)']), 0, 1)\n",
    "df['loan_status'].value_counts()"
   ]
  },
  {
   "cell_type": "markdown",
   "metadata": {},
   "source": [
    "Let's make our dataset more readible by reordering it so our target variable is the last column."
   ]
  },
  {
   "cell_type": "code",
   "execution_count": 25,
   "metadata": {
    "scrolled": true
   },
   "outputs": [],
   "source": [
    "# Reordering the columns\n",
    "loan_status = df['loan_status']\n",
    "df.drop(['loan_status'], axis = 1, inplace = True)\n",
    "df['loan_status'] = loan_status"
   ]
  },
  {
   "cell_type": "markdown",
   "metadata": {},
   "source": [
    "Our dataset is nearly ready. But we should have an ID column to use before we start training and testing models. "
   ]
  },
  {
   "cell_type": "code",
   "execution_count": 26,
   "metadata": {},
   "outputs": [],
   "source": [
    "# Create ID column\n",
    "Id = df.index + 1\n",
    "cols = list(df.columns)\n",
    "cols = [cols[-1]] + cols[:-1]\n",
    "df = df[cols]"
   ]
  },
  {
   "cell_type": "code",
   "execution_count": 27,
   "metadata": {},
   "outputs": [
    {
     "data": {
      "text/html": [
       "<div>\n",
       "<style scoped>\n",
       "    .dataframe tbody tr th:only-of-type {\n",
       "        vertical-align: middle;\n",
       "    }\n",
       "\n",
       "    .dataframe tbody tr th {\n",
       "        vertical-align: top;\n",
       "    }\n",
       "\n",
       "    .dataframe thead th {\n",
       "        text-align: right;\n",
       "    }\n",
       "</style>\n",
       "<table border=\"1\" class=\"dataframe\">\n",
       "  <thead>\n",
       "    <tr style=\"text-align: right;\">\n",
       "      <th></th>\n",
       "      <th>loan_status</th>\n",
       "      <th>loan_amnt</th>\n",
       "      <th>funded_amnt</th>\n",
       "      <th>funded_amnt_inv</th>\n",
       "      <th>term</th>\n",
       "      <th>int_rate</th>\n",
       "      <th>installment</th>\n",
       "      <th>...</th>\n",
       "      <th>zip_code 994xx</th>\n",
       "      <th>zip_code 995xx</th>\n",
       "      <th>zip_code 996xx</th>\n",
       "      <th>zip_code 997xx</th>\n",
       "      <th>zip_code 998xx</th>\n",
       "      <th>zip_code 999xx</th>\n",
       "      <th>zip_code none</th>\n",
       "    </tr>\n",
       "  </thead>\n",
       "  <tbody>\n",
       "    <tr>\n",
       "      <th>0</th>\n",
       "      <td>1</td>\n",
       "      <td>2500</td>\n",
       "      <td>2500</td>\n",
       "      <td>2500.0</td>\n",
       "      <td>36</td>\n",
       "      <td>13.56</td>\n",
       "      <td>84.92</td>\n",
       "      <td>...</td>\n",
       "      <td>0</td>\n",
       "      <td>0</td>\n",
       "      <td>0</td>\n",
       "      <td>0</td>\n",
       "      <td>0</td>\n",
       "      <td>0</td>\n",
       "      <td>0</td>\n",
       "    </tr>\n",
       "    <tr>\n",
       "      <th>1</th>\n",
       "      <td>1</td>\n",
       "      <td>30000</td>\n",
       "      <td>30000</td>\n",
       "      <td>30000.0</td>\n",
       "      <td>60</td>\n",
       "      <td>18.94</td>\n",
       "      <td>777.23</td>\n",
       "      <td>...</td>\n",
       "      <td>0</td>\n",
       "      <td>0</td>\n",
       "      <td>0</td>\n",
       "      <td>0</td>\n",
       "      <td>0</td>\n",
       "      <td>0</td>\n",
       "      <td>0</td>\n",
       "    </tr>\n",
       "    <tr>\n",
       "      <th>2</th>\n",
       "      <td>1</td>\n",
       "      <td>5000</td>\n",
       "      <td>5000</td>\n",
       "      <td>5000.0</td>\n",
       "      <td>36</td>\n",
       "      <td>17.97</td>\n",
       "      <td>180.69</td>\n",
       "      <td>...</td>\n",
       "      <td>0</td>\n",
       "      <td>0</td>\n",
       "      <td>0</td>\n",
       "      <td>0</td>\n",
       "      <td>0</td>\n",
       "      <td>0</td>\n",
       "      <td>0</td>\n",
       "    </tr>\n",
       "    <tr>\n",
       "      <th>3</th>\n",
       "      <td>1</td>\n",
       "      <td>4000</td>\n",
       "      <td>4000</td>\n",
       "      <td>4000.0</td>\n",
       "      <td>36</td>\n",
       "      <td>18.94</td>\n",
       "      <td>146.51</td>\n",
       "      <td>...</td>\n",
       "      <td>0</td>\n",
       "      <td>0</td>\n",
       "      <td>0</td>\n",
       "      <td>0</td>\n",
       "      <td>0</td>\n",
       "      <td>0</td>\n",
       "      <td>0</td>\n",
       "    </tr>\n",
       "    <tr>\n",
       "      <th>4</th>\n",
       "      <td>1</td>\n",
       "      <td>30000</td>\n",
       "      <td>30000</td>\n",
       "      <td>30000.0</td>\n",
       "      <td>60</td>\n",
       "      <td>16.14</td>\n",
       "      <td>731.78</td>\n",
       "      <td>...</td>\n",
       "      <td>0</td>\n",
       "      <td>0</td>\n",
       "      <td>0</td>\n",
       "      <td>0</td>\n",
       "      <td>0</td>\n",
       "      <td>0</td>\n",
       "      <td>0</td>\n",
       "    </tr>\n",
       "  </tbody>\n",
       "</table>\n",
       "<p>5 rows × 1185 columns</p>\n",
       "</div>"
      ],
      "text/plain": [
       "   loan_status  loan_amnt  funded_amnt  funded_amnt_inv  term  int_rate  \\\n",
       "0            1       2500         2500           2500.0    36     13.56   \n",
       "1            1      30000        30000          30000.0    60     18.94   \n",
       "2            1       5000         5000           5000.0    36     17.97   \n",
       "3            1       4000         4000           4000.0    36     18.94   \n",
       "4            1      30000        30000          30000.0    60     16.14   \n",
       "\n",
       "   installment  ...  zip_code 994xx  zip_code 995xx  zip_code 996xx  \\\n",
       "0        84.92  ...               0               0               0   \n",
       "1       777.23  ...               0               0               0   \n",
       "2       180.69  ...               0               0               0   \n",
       "3       146.51  ...               0               0               0   \n",
       "4       731.78  ...               0               0               0   \n",
       "\n",
       "   zip_code 997xx  zip_code 998xx  zip_code 999xx  zip_code none  \n",
       "0               0               0               0              0  \n",
       "1               0               0               0              0  \n",
       "2               0               0               0              0  \n",
       "3               0               0               0              0  \n",
       "4               0               0               0              0  \n",
       "\n",
       "[5 rows x 1185 columns]"
      ]
     },
     "execution_count": 27,
     "metadata": {},
     "output_type": "execute_result"
    }
   ],
   "source": [
    "df.head()"
   ]
  },
  {
   "cell_type": "code",
   "execution_count": 28,
   "metadata": {},
   "outputs": [
    {
     "data": {
      "text/html": [
       "<div>\n",
       "<style scoped>\n",
       "    .dataframe tbody tr th:only-of-type {\n",
       "        vertical-align: middle;\n",
       "    }\n",
       "\n",
       "    .dataframe tbody tr th {\n",
       "        vertical-align: top;\n",
       "    }\n",
       "\n",
       "    .dataframe thead th {\n",
       "        text-align: right;\n",
       "    }\n",
       "</style>\n",
       "<table border=\"1\" class=\"dataframe\">\n",
       "  <thead>\n",
       "    <tr style=\"text-align: right;\">\n",
       "      <th></th>\n",
       "      <th>loan_status</th>\n",
       "      <th>loan_amnt</th>\n",
       "      <th>funded_amnt</th>\n",
       "      <th>funded_amnt_inv</th>\n",
       "      <th>term</th>\n",
       "      <th>int_rate</th>\n",
       "      <th>installment</th>\n",
       "      <th>...</th>\n",
       "      <th>zip_code 994xx</th>\n",
       "      <th>zip_code 995xx</th>\n",
       "      <th>zip_code 996xx</th>\n",
       "      <th>zip_code 997xx</th>\n",
       "      <th>zip_code 998xx</th>\n",
       "      <th>zip_code 999xx</th>\n",
       "      <th>zip_code none</th>\n",
       "    </tr>\n",
       "  </thead>\n",
       "  <tbody>\n",
       "    <tr>\n",
       "      <th>2260663</th>\n",
       "      <td>1</td>\n",
       "      <td>12000</td>\n",
       "      <td>12000</td>\n",
       "      <td>12000.0</td>\n",
       "      <td>60</td>\n",
       "      <td>14.08</td>\n",
       "      <td>279.72</td>\n",
       "      <td>...</td>\n",
       "      <td>0</td>\n",
       "      <td>0</td>\n",
       "      <td>0</td>\n",
       "      <td>0</td>\n",
       "      <td>0</td>\n",
       "      <td>0</td>\n",
       "      <td>0</td>\n",
       "    </tr>\n",
       "    <tr>\n",
       "      <th>2260664</th>\n",
       "      <td>1</td>\n",
       "      <td>12000</td>\n",
       "      <td>12000</td>\n",
       "      <td>12000.0</td>\n",
       "      <td>60</td>\n",
       "      <td>25.82</td>\n",
       "      <td>358.01</td>\n",
       "      <td>...</td>\n",
       "      <td>0</td>\n",
       "      <td>0</td>\n",
       "      <td>0</td>\n",
       "      <td>0</td>\n",
       "      <td>0</td>\n",
       "      <td>0</td>\n",
       "      <td>0</td>\n",
       "    </tr>\n",
       "    <tr>\n",
       "      <th>2260665</th>\n",
       "      <td>1</td>\n",
       "      <td>10000</td>\n",
       "      <td>10000</td>\n",
       "      <td>10000.0</td>\n",
       "      <td>36</td>\n",
       "      <td>11.99</td>\n",
       "      <td>332.10</td>\n",
       "      <td>...</td>\n",
       "      <td>0</td>\n",
       "      <td>0</td>\n",
       "      <td>0</td>\n",
       "      <td>0</td>\n",
       "      <td>0</td>\n",
       "      <td>0</td>\n",
       "      <td>0</td>\n",
       "    </tr>\n",
       "    <tr>\n",
       "      <th>2260666</th>\n",
       "      <td>1</td>\n",
       "      <td>12000</td>\n",
       "      <td>12000</td>\n",
       "      <td>12000.0</td>\n",
       "      <td>60</td>\n",
       "      <td>21.45</td>\n",
       "      <td>327.69</td>\n",
       "      <td>...</td>\n",
       "      <td>0</td>\n",
       "      <td>0</td>\n",
       "      <td>1</td>\n",
       "      <td>0</td>\n",
       "      <td>0</td>\n",
       "      <td>0</td>\n",
       "      <td>0</td>\n",
       "    </tr>\n",
       "    <tr>\n",
       "      <th>2260667</th>\n",
       "      <td>1</td>\n",
       "      <td>16550</td>\n",
       "      <td>16550</td>\n",
       "      <td>16550.0</td>\n",
       "      <td>60</td>\n",
       "      <td>21.45</td>\n",
       "      <td>451.94</td>\n",
       "      <td>...</td>\n",
       "      <td>0</td>\n",
       "      <td>0</td>\n",
       "      <td>0</td>\n",
       "      <td>0</td>\n",
       "      <td>0</td>\n",
       "      <td>0</td>\n",
       "      <td>0</td>\n",
       "    </tr>\n",
       "  </tbody>\n",
       "</table>\n",
       "<p>5 rows × 1185 columns</p>\n",
       "</div>"
      ],
      "text/plain": [
       "         loan_status  loan_amnt  funded_amnt  funded_amnt_inv  term  int_rate  \\\n",
       "2260663            1      12000        12000          12000.0    60     14.08   \n",
       "2260664            1      12000        12000          12000.0    60     25.82   \n",
       "2260665            1      10000        10000          10000.0    36     11.99   \n",
       "2260666            1      12000        12000          12000.0    60     21.45   \n",
       "2260667            1      16550        16550          16550.0    60     21.45   \n",
       "\n",
       "         installment  ...  zip_code 994xx  zip_code 995xx  zip_code 996xx  \\\n",
       "2260663       279.72  ...               0               0               0   \n",
       "2260664       358.01  ...               0               0               0   \n",
       "2260665       332.10  ...               0               0               0   \n",
       "2260666       327.69  ...               0               0               1   \n",
       "2260667       451.94  ...               0               0               0   \n",
       "\n",
       "         zip_code 997xx  zip_code 998xx  zip_code 999xx  zip_code none  \n",
       "2260663               0               0               0              0  \n",
       "2260664               0               0               0              0  \n",
       "2260665               0               0               0              0  \n",
       "2260666               0               0               0              0  \n",
       "2260667               0               0               0              0  \n",
       "\n",
       "[5 rows x 1185 columns]"
      ]
     },
     "execution_count": 28,
     "metadata": {},
     "output_type": "execute_result"
    }
   ],
   "source": [
    "df.tail()"
   ]
  },
  {
   "cell_type": "markdown",
   "metadata": {},
   "source": [
    "# Estimate PD Model"
   ]
  },
  {
   "cell_type": "markdown",
   "metadata": {},
   "source": [
    "Let's split our data into a train and test set. We will use a 70/30 split. "
   ]
  },
  {
   "cell_type": "code",
   "execution_count": 29,
   "metadata": {},
   "outputs": [
    {
     "data": {
      "text/plain": [
       "1    1976355\n",
       "0     284313\n",
       "Name: loan_status, dtype: int64"
      ]
     },
     "execution_count": 29,
     "metadata": {},
     "output_type": "execute_result"
    }
   ],
   "source": [
    "df['loan_status'].value_counts(dropna=False)"
   ]
  },
  {
   "cell_type": "code",
   "execution_count": 30,
   "metadata": {},
   "outputs": [],
   "source": [
    "# Train Test Split; 70:30\n",
    "X = df.drop(['loan_status'], axis = 1)\n",
    "y = df[['loan_status']].astype(float)"
   ]
  },
  {
   "cell_type": "code",
   "execution_count": 31,
   "metadata": {},
   "outputs": [
    {
     "name": "stdout",
     "output_type": "stream",
     "text": [
      "(1582467, 1184) (1582467, 1) (678201, 1184) (678201, 1)\n"
     ]
    }
   ],
   "source": [
    "X_train, X_test, y_train, y_test = train_test_split(X, y, test_size = 0.30, random_state = 42)\n",
    "print(X_train.shape, y_train.shape, X_test.shape, y_test.shape)"
   ]
  },
  {
   "cell_type": "code",
   "execution_count": 32,
   "metadata": {},
   "outputs": [
    {
     "data": {
      "text/plain": [
       "37"
      ]
     },
     "execution_count": 32,
     "metadata": {},
     "output_type": "execute_result"
    }
   ],
   "source": [
    "gc.collect()"
   ]
  },
  {
   "cell_type": "markdown",
   "metadata": {},
   "source": [
    "### Random Forest"
   ]
  },
  {
   "cell_type": "code",
   "execution_count": 34,
   "metadata": {
    "scrolled": true
   },
   "outputs": [],
   "source": [
    "# Random Forest\n",
    "from sklearn.ensemble import RandomForestClassifier\n",
    "rf = RandomForestClassifier(n_estimators = 50, max_depth = 2, n_jobs = 99)\n",
    "rf.fit(X_train, y_train)\n",
    "rf_train = rf.predict_proba(X_train)\n",
    "rf_test = rf.predict_proba(X_test)\n"
   ]
  },
  {
   "cell_type": "code",
   "execution_count": 35,
   "metadata": {},
   "outputs": [
    {
     "name": "stdout",
     "output_type": "stream",
     "text": [
      "Performance on train set: 0.93\n",
      "Performance on test set: 0.93\n"
     ]
    }
   ],
   "source": [
    "rf_train = rf_train[:,[1]]\n",
    "rf_test = rf_test[:,[1]]\n",
    "print('Performance on train set: %.2f' % roc_auc_score(y_train, rf_train),\n",
    "      'Performance on test set: %.2f' % roc_auc_score(y_test, rf_test),sep=\"\\n\")"
   ]
  },
  {
   "cell_type": "markdown",
   "metadata": {},
   "source": [
    "### Boosted Model"
   ]
  },
  {
   "cell_type": "code",
   "execution_count": 36,
   "metadata": {},
   "outputs": [],
   "source": [
    "# XG Boost\n",
    "from xgboost import XGBClassifier\n",
    "xgb = XGBClassifier(n_estimators = 50, max_depth = 2, n_jobs = 99)\n",
    "xgb = xgb.fit(X_train, y_train)\n",
    "xgb_train = xgb.predict_proba(X_train)\n",
    "xgb_test = xgb.predict_proba(X_test)\n"
   ]
  },
  {
   "cell_type": "code",
   "execution_count": 37,
   "metadata": {},
   "outputs": [
    {
     "name": "stdout",
     "output_type": "stream",
     "text": [
      "Performance on train set: 0.99\n",
      "Performance on test set: 0.99\n"
     ]
    }
   ],
   "source": [
    "xgb_train = xgb_train[:,[1]]\n",
    "xgb_test = xgb_test[:,[1]]\n",
    "print('Performance on train set: %.2f' % roc_auc_score(y_train, xgb_train),\n",
    "      'Performance on test set: %.2f' % roc_auc_score(y_test, xgb_test),sep=\"\\n\")"
   ]
  },
  {
   "cell_type": "markdown",
   "metadata": {},
   "source": [
    "### Multi-Layer Perceptron"
   ]
  },
  {
   "cell_type": "code",
   "execution_count": 38,
   "metadata": {},
   "outputs": [],
   "source": [
    "#Multi-layer Perceptron\n",
    "from sklearn.neural_network import MLPClassifier\n",
    "nn = MLPClassifier(hidden_layer_sizes=(500,500))\n",
    "nn = nn.fit(X_train,y_train)\n",
    "nn_train = nn.predict_proba(X_train)\n",
    "nn_test = nn.predict_proba(X_test)"
   ]
  },
  {
   "cell_type": "code",
   "execution_count": 39,
   "metadata": {},
   "outputs": [
    {
     "name": "stdout",
     "output_type": "stream",
     "text": [
      "Performance on train set: 0.82\n",
      "Performance on test set: 0.82\n"
     ]
    }
   ],
   "source": [
    "nn_train = nn_train[:,[1]]\n",
    "nn_test = nn_test[:,[1]]\n",
    "print('Performance on train set: %.2f' % roc_auc_score(y_train, nn_train),\n",
    "      'Performance on test set: %.2f' % roc_auc_score(y_test, nn_test),sep=\"\\n\")"
   ]
  },
  {
   "cell_type": "markdown",
   "metadata": {},
   "source": [
    "### Let's see what features drive whether someone will default"
   ]
  },
  {
   "cell_type": "code",
   "execution_count": 42,
   "metadata": {},
   "outputs": [
    {
     "data": {
      "text/html": [
       "<div>\n",
       "<style scoped>\n",
       "    .dataframe tbody tr th:only-of-type {\n",
       "        vertical-align: middle;\n",
       "    }\n",
       "\n",
       "    .dataframe tbody tr th {\n",
       "        vertical-align: top;\n",
       "    }\n",
       "\n",
       "    .dataframe thead th {\n",
       "        text-align: right;\n",
       "    }\n",
       "</style>\n",
       "<table border=\"1\" class=\"dataframe\">\n",
       "  <thead>\n",
       "    <tr style=\"text-align: right;\">\n",
       "      <th></th>\n",
       "      <th>feature</th>\n",
       "      <th>f_score</th>\n",
       "    </tr>\n",
       "  </thead>\n",
       "  <tbody>\n",
       "    <tr>\n",
       "      <th>0</th>\n",
       "      <td>total_rec_prncp</td>\n",
       "      <td>0.088426</td>\n",
       "    </tr>\n",
       "    <tr>\n",
       "      <th>1</th>\n",
       "      <td>out_prncp</td>\n",
       "      <td>0.070187</td>\n",
       "    </tr>\n",
       "    <tr>\n",
       "      <th>2</th>\n",
       "      <td>collection_recovery_fee</td>\n",
       "      <td>0.067824</td>\n",
       "    </tr>\n",
       "    <tr>\n",
       "      <th>3</th>\n",
       "      <td>settlement_percentage</td>\n",
       "      <td>0.038162</td>\n",
       "    </tr>\n",
       "    <tr>\n",
       "      <th>4</th>\n",
       "      <td>recoveries</td>\n",
       "      <td>0.037957</td>\n",
       "    </tr>\n",
       "    <tr>\n",
       "      <th>5</th>\n",
       "      <td>out_prncp_inv</td>\n",
       "      <td>0.037755</td>\n",
       "    </tr>\n",
       "    <tr>\n",
       "      <th>6</th>\n",
       "      <td>debt_settlement_flag</td>\n",
       "      <td>0.034694</td>\n",
       "    </tr>\n",
       "    <tr>\n",
       "      <th>...</th>\n",
       "      <td>...</td>\n",
       "      <td>...</td>\n",
       "    </tr>\n",
       "    <tr>\n",
       "      <th>1177</th>\n",
       "      <td>zip_code 233xx</td>\n",
       "      <td>0.000000</td>\n",
       "    </tr>\n",
       "    <tr>\n",
       "      <th>1178</th>\n",
       "      <td>zip_code 234xx</td>\n",
       "      <td>0.000000</td>\n",
       "    </tr>\n",
       "    <tr>\n",
       "      <th>1179</th>\n",
       "      <td>zip_code 235xx</td>\n",
       "      <td>0.000000</td>\n",
       "    </tr>\n",
       "    <tr>\n",
       "      <th>1180</th>\n",
       "      <td>zip_code 236xx</td>\n",
       "      <td>0.000000</td>\n",
       "    </tr>\n",
       "    <tr>\n",
       "      <th>1181</th>\n",
       "      <td>zip_code 237xx</td>\n",
       "      <td>0.000000</td>\n",
       "    </tr>\n",
       "    <tr>\n",
       "      <th>1182</th>\n",
       "      <td>zip_code 238xx</td>\n",
       "      <td>0.000000</td>\n",
       "    </tr>\n",
       "    <tr>\n",
       "      <th>1183</th>\n",
       "      <td>zip_code none</td>\n",
       "      <td>0.000000</td>\n",
       "    </tr>\n",
       "  </tbody>\n",
       "</table>\n",
       "<p>1184 rows × 2 columns</p>\n",
       "</div>"
      ],
      "text/plain": [
       "                      feature   f_score\n",
       "0             total_rec_prncp  0.088426\n",
       "1                   out_prncp  0.070187\n",
       "2     collection_recovery_fee  0.067824\n",
       "3       settlement_percentage  0.038162\n",
       "4                  recoveries  0.037957\n",
       "5               out_prncp_inv  0.037755\n",
       "6        debt_settlement_flag  0.034694\n",
       "...                       ...       ...\n",
       "1177           zip_code 233xx  0.000000\n",
       "1178           zip_code 234xx  0.000000\n",
       "1179           zip_code 235xx  0.000000\n",
       "1180           zip_code 236xx  0.000000\n",
       "1181           zip_code 237xx  0.000000\n",
       "1182           zip_code 238xx  0.000000\n",
       "1183            zip_code none  0.000000\n",
       "\n",
       "[1184 rows x 2 columns]"
      ]
     },
     "execution_count": 42,
     "metadata": {},
     "output_type": "execute_result"
    }
   ],
   "source": [
    "# Feature Importance\n",
    "feat_importances = pd.DataFrame(zip(list(X_train.columns),rf.feature_importances_))\n",
    "feat_importances.columns = ['feature','f_score']\n",
    "feat_importances = feat_importances.sort_values('f_score',ascending=False)\n",
    "feat_importances = feat_importances.reset_index(drop=True)\n",
    "\n",
    "pd.options.display.max_columns = 15\n",
    "pd.options.display.max_rows = 15\n",
    "feat_importances"
   ]
  },
  {
   "cell_type": "markdown",
   "metadata": {},
   "source": [
    "### We are getting some very high performing models. But our results seem dubious... We expect a greater amount of uncertainty when modeling consumer behavior. We have a leakage problem!"
   ]
  },
  {
   "cell_type": "markdown",
   "metadata": {},
   "source": [
    "Let's assign a new set of features which reflects the information in the order we would receive it. Meaning let's not use features that we would have after the time of default. "
   ]
  },
  {
   "cell_type": "code",
   "execution_count": 43,
   "metadata": {},
   "outputs": [],
   "source": [
    "X_acc = X[['out_prncp', 'total_rec_prncp', 'out_prncp_inv', 'next_last_payment_difference', 'mths_since_rcnt_il',\n",
    "          'total_pymnt_inv', 'int_rate', 'total_rec_late_fee', 'open_act_il', 'mths_since_issue_d', 'hardship_type INTEREST ONLY-3 MONTHS DEFERRAL',\n",
    "          'deferral_term', 'hardship_reason MEDICAL', 'settlement_status BROKEN', 'hardship_status BROKEN', 'total_pymnt',\n",
    "          'avg_cur_bal', 'hardship_dpd', 'percent_bc_gt_75', 'num_tl_op_past_12m', 'sec_app_inq_last_6mths', 'home_ownership RENT',\n",
    "          'max_bal_bc', 'sub_grade']]"
   ]
  },
  {
   "cell_type": "markdown",
   "metadata": {},
   "source": [
    "Time for a new train/test split"
   ]
  },
  {
   "cell_type": "code",
   "execution_count": 44,
   "metadata": {},
   "outputs": [
    {
     "name": "stdout",
     "output_type": "stream",
     "text": [
      "(1582467, 24) (1582467, 1) (678201, 24) (678201, 1)\n"
     ]
    }
   ],
   "source": [
    "X_train, X_test, y_train, y_test = train_test_split(X_acc, y, test_size = 0.30, random_state = 42)\n",
    "print(X_train.shape, y_train.shape, X_test.shape, y_test.shape)"
   ]
  },
  {
   "cell_type": "markdown",
   "metadata": {},
   "source": [
    "## Updated Random Forest "
   ]
  },
  {
   "cell_type": "code",
   "execution_count": 45,
   "metadata": {},
   "outputs": [],
   "source": [
    "# Random Forest\n",
    "from sklearn.ensemble import RandomForestClassifier\n",
    "rf = RandomForestClassifier(n_estimators = 50, max_depth = 2, n_jobs = 99)\n",
    "rf.fit(X_train, y_train)\n",
    "rf_train = rf.predict_proba(X_train)\n",
    "rf_test = rf.predict_proba(X_test)"
   ]
  },
  {
   "cell_type": "code",
   "execution_count": 46,
   "metadata": {},
   "outputs": [
    {
     "name": "stdout",
     "output_type": "stream",
     "text": [
      "Performance on train set: 0.91\n",
      "Performance on test set: 0.91\n"
     ]
    }
   ],
   "source": [
    "rf_train = rf_train[:,[1]]\n",
    "rf_test = rf_test[:,[1]]\n",
    "print('Performance on train set: %.2f' % roc_auc_score(y_train, rf_train),\n",
    "      'Performance on test set: %.2f' % roc_auc_score(y_test, rf_test),sep=\"\\n\")"
   ]
  },
  {
   "cell_type": "markdown",
   "metadata": {},
   "source": [
    "## Updated Boosted Model"
   ]
  },
  {
   "cell_type": "code",
   "execution_count": 47,
   "metadata": {},
   "outputs": [],
   "source": [
    "# XG Boost\n",
    "from xgboost import XGBClassifier\n",
    "xgb = XGBClassifier(n_estimators = 50, max_depth = 2, n_jobs = 99)\n",
    "xgb = xgb.fit(X_train, y_train)\n",
    "xgb_train = xgb.predict_proba(X_train)\n",
    "xgb_test = xgb.predict_proba(X_test)\n"
   ]
  },
  {
   "cell_type": "code",
   "execution_count": 48,
   "metadata": {},
   "outputs": [
    {
     "name": "stdout",
     "output_type": "stream",
     "text": [
      "Performance on train set: 0.96\n",
      "Performance on test set: 0.96\n"
     ]
    }
   ],
   "source": [
    "xgb_train = xgb_train[:,[1]]\n",
    "xgb_test = xgb_test[:,[1]]\n",
    "print('Performance on train set: %.2f' % roc_auc_score(y_train, xgb_train),\n",
    "      'Performance on test set: %.2f' % roc_auc_score(y_test, xgb_test),sep=\"\\n\")"
   ]
  },
  {
   "cell_type": "markdown",
   "metadata": {},
   "source": [
    "## Multi Layer Perceptron"
   ]
  },
  {
   "cell_type": "code",
   "execution_count": 50,
   "metadata": {},
   "outputs": [],
   "source": [
    "#Multi-layer Perceptron\n",
    "from sklearn.neural_network import MLPClassifier\n",
    "nn = MLPClassifier(hidden_layer_sizes=(500,500))\n",
    "nn = nn.fit(X_train,y_train)\n",
    "nn_train = nn.predict_proba(X_train)\n",
    "nn_test = nn.predict_proba(X_test)"
   ]
  },
  {
   "cell_type": "code",
   "execution_count": 51,
   "metadata": {},
   "outputs": [
    {
     "name": "stdout",
     "output_type": "stream",
     "text": [
      "Performance on train set: 0.98\n",
      "Performance on test set: 0.98\n"
     ]
    }
   ],
   "source": [
    "nn_train = nn_train[:,[1]]\n",
    "nn_test = nn_test[:,[1]]\n",
    "print('Performance on train set: %.2f' % roc_auc_score(y_train, nn_train),\n",
    "      'Performance on test set: %.2f' % roc_auc_score(y_test, nn_test),sep=\"\\n\")"
   ]
  },
  {
   "cell_type": "markdown",
   "metadata": {},
   "source": [
    "## Let's look at the updated feature importance"
   ]
  },
  {
   "cell_type": "code",
   "execution_count": 52,
   "metadata": {},
   "outputs": [
    {
     "data": {
      "text/html": [
       "<div>\n",
       "<style scoped>\n",
       "    .dataframe tbody tr th:only-of-type {\n",
       "        vertical-align: middle;\n",
       "    }\n",
       "\n",
       "    .dataframe tbody tr th {\n",
       "        vertical-align: top;\n",
       "    }\n",
       "\n",
       "    .dataframe thead th {\n",
       "        text-align: right;\n",
       "    }\n",
       "</style>\n",
       "<table border=\"1\" class=\"dataframe\">\n",
       "  <thead>\n",
       "    <tr style=\"text-align: right;\">\n",
       "      <th></th>\n",
       "      <th>feature</th>\n",
       "      <th>f_score</th>\n",
       "    </tr>\n",
       "  </thead>\n",
       "  <tbody>\n",
       "    <tr>\n",
       "      <th>0</th>\n",
       "      <td>next_last_payment_difference</td>\n",
       "      <td>0.227270</td>\n",
       "    </tr>\n",
       "    <tr>\n",
       "      <th>1</th>\n",
       "      <td>total_rec_prncp</td>\n",
       "      <td>0.135735</td>\n",
       "    </tr>\n",
       "    <tr>\n",
       "      <th>2</th>\n",
       "      <td>out_prncp</td>\n",
       "      <td>0.125386</td>\n",
       "    </tr>\n",
       "    <tr>\n",
       "      <th>3</th>\n",
       "      <td>out_prncp_inv</td>\n",
       "      <td>0.109884</td>\n",
       "    </tr>\n",
       "    <tr>\n",
       "      <th>4</th>\n",
       "      <td>total_rec_late_fee</td>\n",
       "      <td>0.100508</td>\n",
       "    </tr>\n",
       "    <tr>\n",
       "      <th>5</th>\n",
       "      <td>total_pymnt</td>\n",
       "      <td>0.080045</td>\n",
       "    </tr>\n",
       "    <tr>\n",
       "      <th>6</th>\n",
       "      <td>sub_grade</td>\n",
       "      <td>0.077900</td>\n",
       "    </tr>\n",
       "    <tr>\n",
       "      <th>7</th>\n",
       "      <td>int_rate</td>\n",
       "      <td>0.061860</td>\n",
       "    </tr>\n",
       "    <tr>\n",
       "      <th>8</th>\n",
       "      <td>total_pymnt_inv</td>\n",
       "      <td>0.025125</td>\n",
       "    </tr>\n",
       "    <tr>\n",
       "      <th>9</th>\n",
       "      <td>mths_since_issue_d</td>\n",
       "      <td>0.018386</td>\n",
       "    </tr>\n",
       "    <tr>\n",
       "      <th>10</th>\n",
       "      <td>settlement_status BROKEN</td>\n",
       "      <td>0.011225</td>\n",
       "    </tr>\n",
       "    <tr>\n",
       "      <th>11</th>\n",
       "      <td>open_act_il</td>\n",
       "      <td>0.010670</td>\n",
       "    </tr>\n",
       "    <tr>\n",
       "      <th>12</th>\n",
       "      <td>hardship_dpd</td>\n",
       "      <td>0.004699</td>\n",
       "    </tr>\n",
       "    <tr>\n",
       "      <th>13</th>\n",
       "      <td>max_bal_bc</td>\n",
       "      <td>0.003473</td>\n",
       "    </tr>\n",
       "    <tr>\n",
       "      <th>14</th>\n",
       "      <td>mths_since_rcnt_il</td>\n",
       "      <td>0.002395</td>\n",
       "    </tr>\n",
       "    <tr>\n",
       "      <th>15</th>\n",
       "      <td>hardship_status BROKEN</td>\n",
       "      <td>0.002354</td>\n",
       "    </tr>\n",
       "    <tr>\n",
       "      <th>16</th>\n",
       "      <td>deferral_term</td>\n",
       "      <td>0.001375</td>\n",
       "    </tr>\n",
       "    <tr>\n",
       "      <th>17</th>\n",
       "      <td>home_ownership RENT</td>\n",
       "      <td>0.000947</td>\n",
       "    </tr>\n",
       "    <tr>\n",
       "      <th>18</th>\n",
       "      <td>hardship_type INTEREST ONLY-3 MONTHS DEFERRAL</td>\n",
       "      <td>0.000609</td>\n",
       "    </tr>\n",
       "    <tr>\n",
       "      <th>19</th>\n",
       "      <td>avg_cur_bal</td>\n",
       "      <td>0.000154</td>\n",
       "    </tr>\n",
       "    <tr>\n",
       "      <th>20</th>\n",
       "      <td>percent_bc_gt_75</td>\n",
       "      <td>0.000000</td>\n",
       "    </tr>\n",
       "    <tr>\n",
       "      <th>21</th>\n",
       "      <td>num_tl_op_past_12m</td>\n",
       "      <td>0.000000</td>\n",
       "    </tr>\n",
       "    <tr>\n",
       "      <th>22</th>\n",
       "      <td>sec_app_inq_last_6mths</td>\n",
       "      <td>0.000000</td>\n",
       "    </tr>\n",
       "    <tr>\n",
       "      <th>23</th>\n",
       "      <td>hardship_reason MEDICAL</td>\n",
       "      <td>0.000000</td>\n",
       "    </tr>\n",
       "  </tbody>\n",
       "</table>\n",
       "</div>"
      ],
      "text/plain": [
       "                                          feature   f_score\n",
       "0                    next_last_payment_difference  0.227270\n",
       "1                                 total_rec_prncp  0.135735\n",
       "2                                       out_prncp  0.125386\n",
       "3                                   out_prncp_inv  0.109884\n",
       "4                              total_rec_late_fee  0.100508\n",
       "5                                     total_pymnt  0.080045\n",
       "6                                       sub_grade  0.077900\n",
       "7                                        int_rate  0.061860\n",
       "8                                 total_pymnt_inv  0.025125\n",
       "9                              mths_since_issue_d  0.018386\n",
       "10                       settlement_status BROKEN  0.011225\n",
       "11                                    open_act_il  0.010670\n",
       "12                                   hardship_dpd  0.004699\n",
       "13                                     max_bal_bc  0.003473\n",
       "14                             mths_since_rcnt_il  0.002395\n",
       "15                         hardship_status BROKEN  0.002354\n",
       "16                                  deferral_term  0.001375\n",
       "17                            home_ownership RENT  0.000947\n",
       "18  hardship_type INTEREST ONLY-3 MONTHS DEFERRAL  0.000609\n",
       "19                                    avg_cur_bal  0.000154\n",
       "20                               percent_bc_gt_75  0.000000\n",
       "21                             num_tl_op_past_12m  0.000000\n",
       "22                         sec_app_inq_last_6mths  0.000000\n",
       "23                        hardship_reason MEDICAL  0.000000"
      ]
     },
     "execution_count": 52,
     "metadata": {},
     "output_type": "execute_result"
    }
   ],
   "source": [
    "# Feature Importance\n",
    "feat_importances = pd.DataFrame(zip(list(X_train.columns),rf.feature_importances_))\n",
    "feat_importances.columns = ['feature','f_score']\n",
    "feat_importances = feat_importances.sort_values('f_score',ascending=False)\n",
    "feat_importances = feat_importances.reset_index(drop=True)\n",
    "\n",
    "pd.options.display.max_columns = 10000\n",
    "pd.options.display.max_rows = 10000\n",
    "feat_importances"
   ]
  },
  {
   "cell_type": "code",
   "execution_count": null,
   "metadata": {},
   "outputs": [],
   "source": []
  }
 ],
 "metadata": {
  "kernelspec": {
   "display_name": "Python 3",
   "language": "python",
   "name": "python3"
  },
  "language_info": {
   "codemirror_mode": {
    "name": "ipython",
    "version": 3
   },
   "file_extension": ".py",
   "mimetype": "text/x-python",
   "name": "python",
   "nbconvert_exporter": "python",
   "pygments_lexer": "ipython3",
   "version": "3.7.3"
  }
 },
 "nbformat": 4,
 "nbformat_minor": 2
}
